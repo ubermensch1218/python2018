{
 "cells": [
  {
   "cell_type": "code",
   "execution_count": 29,
   "metadata": {},
   "outputs": [
    {
     "name": "stdout",
     "output_type": "stream",
     "text": [
      "오늘 치킨을 쏠 사람은? \n",
      "임지원 0\n",
      "노은재 1\n",
      "김성민 2\n",
      "오혁재 3\n",
      "권준영 4\n",
      "강수민 5\n",
      "한석휘 6\n",
      "송제리 7\n",
      "권성원 8\n",
      "김재현B 9\n",
      "정제영 10\n",
      "권순 11\n",
      "전다음 12\n",
      "독고은 13\n",
      "강정석 14\n",
      "김현진 15\n",
      "이준석 16\n",
      "김민규 17\n",
      "하태윤 18\n",
      "오윤식 19\n",
      "김나은 20\n"
     ]
    }
   ],
   "source": [
    "import random\n",
    "\n",
    "f = open('2반.txt', encoding = 'utf8')\n",
    "cls = []\n",
    "\n",
    "for row in f :\n",
    "    cls.append(row.strip())\n",
    "    random.shuffle(cls)\n",
    "\n",
    "    \n",
    "print(\"오늘 치킨을 쏠 사람은? \")\n",
    "for i in range(len(cls)):\n",
    "    name = random.choice(cls)\n",
    "    print(name , i)\n",
    "    cls.remove(name)\n",
    "\n",
    "f.close()\n",
    "\n"
   ]
  },
  {
   "cell_type": "code",
   "execution_count": 23,
   "metadata": {},
   "outputs": [],
   "source": [
    "f = open('data.txt')"
   ]
  },
  {
   "cell_type": "code",
   "execution_count": null,
   "metadata": {},
   "outputs": [],
   "source": []
  }
 ],
 "metadata": {
  "kernelspec": {
   "display_name": "Python 3",
   "language": "python",
   "name": "python3"
  },
  "language_info": {
   "codemirror_mode": {
    "name": "ipython",
    "version": 3
   },
   "file_extension": ".py",
   "mimetype": "text/x-python",
   "name": "python",
   "nbconvert_exporter": "python",
   "pygments_lexer": "ipython3",
   "version": "3.6.4"
  }
 },
 "nbformat": 4,
 "nbformat_minor": 2
}
